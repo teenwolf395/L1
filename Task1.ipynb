{
  "nbformat": 4,
  "nbformat_minor": 0,
  "metadata": {
    "colab": {
      "provenance": [],
      "authorship_tag": "ABX9TyOXbzs6YerrHS6k8s6fknOW",
      "include_colab_link": true
    },
    "kernelspec": {
      "name": "python3",
      "display_name": "Python 3"
    },
    "language_info": {
      "name": "python"
    }
  },
  "cells": [
    {
      "cell_type": "markdown",
      "metadata": {
        "id": "view-in-github",
        "colab_type": "text"
      },
      "source": [
        "<a href=\"https://colab.research.google.com/github/teenwolf395/L1/blob/main/Task1.ipynb\" target=\"_parent\"><img src=\"https://colab.research.google.com/assets/colab-badge.svg\" alt=\"Open In Colab\"/></a>"
      ]
    },
    {
      "cell_type": "code",
      "execution_count": 8,
      "metadata": {
        "colab": {
          "base_uri": "https://localhost:8080/"
        },
        "id": "9jopj7L6UrQr",
        "outputId": "3b58b7b3-528b-4da8-b73e-70531e4d7e0c"
      },
      "outputs": [
        {
          "output_type": "stream",
          "name": "stdout",
          "text": [
            "element 1: 5\n",
            "element 2: 7.9\n",
            "element 3: hello\n",
            "arr [True, 4, 7.999]\n"
          ]
        }
      ],
      "source": [
        "arr = (5, 7.9, \"hello\", True, 4, 7.999)\n",
        "e1, e2, e3, *e4=arr\n",
        "print (\"element 1:\", e1)\n",
        "print (\"element 2:\", e2)\n",
        "print (\"element 3:\", e3)\n",
        "print (\"arr\", e4)"
      ]
    }
  ]
}