{
  "nbformat": 4,
  "nbformat_minor": 0,
  "metadata": {
    "colab": {
      "provenance": [],
      "authorship_tag": "ABX9TyPV8IrtuHs2xN6hi0jxXFnN",
      "include_colab_link": true
    },
    "kernelspec": {
      "name": "python3",
      "display_name": "Python 3"
    },
    "language_info": {
      "name": "python"
    }
  },
  "cells": [
    {
      "cell_type": "markdown",
      "metadata": {
        "id": "view-in-github",
        "colab_type": "text"
      },
      "source": [
        "<a href=\"https://colab.research.google.com/github/teenwolf395/L1/blob/main/Task1.ipynb\" target=\"_parent\"><img src=\"https://colab.research.google.com/assets/colab-badge.svg\" alt=\"Open In Colab\"/></a>"
      ]
    },
    {
      "cell_type": "code",
      "execution_count": 10,
      "metadata": {
        "colab": {
          "base_uri": "https://localhost:8080/"
        },
        "id": "9jopj7L6UrQr",
        "outputId": "a4e2ca56-f665-46fd-caf6-ad6a6980da98"
      },
      "outputs": [
        {
          "output_type": "stream",
          "name": "stdout",
          "text": [
            "element 1: 5\n",
            "element 2: 7.9\n",
            "element 3: hello\n",
            "other [True]\n"
          ]
        }
      ],
      "source": [
        "arr = (5, 7.9, \"hello\", True)\n",
        "e1, e2, e3, *e4=arr\n",
        "print (\"element 1:\", e1)\n",
        "print (\"element 2:\", e2)\n",
        "print (\"element 3:\", e3)\n",
        "print (\"other\", e4)"
      ]
    }
  ]
}