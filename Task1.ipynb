{
  "nbformat": 4,
  "nbformat_minor": 0,
  "metadata": {
    "colab": {
      "provenance": [],
      "authorship_tag": "ABX9TyOm7FBFAAn2roYhDQwurSvq",
      "include_colab_link": true
    },
    "kernelspec": {
      "name": "python3",
      "display_name": "Python 3"
    },
    "language_info": {
      "name": "python"
    }
  },
  "cells": [
    {
      "cell_type": "markdown",
      "metadata": {
        "id": "view-in-github",
        "colab_type": "text"
      },
      "source": [
        "<a href=\"https://colab.research.google.com/github/teenwolf395/L1/blob/main/Task1.ipynb\" target=\"_parent\"><img src=\"https://colab.research.google.com/assets/colab-badge.svg\" alt=\"Open In Colab\"/></a>"
      ]
    },
    {
      "cell_type": "code",
      "execution_count": 1,
      "metadata": {
        "colab": {
          "base_uri": "https://localhost:8080/"
        },
        "id": "9jopj7L6UrQr",
        "outputId": "8696615d-03ba-4fa5-9727-7eaf3fa16db6"
      },
      "outputs": [
        {
          "output_type": "stream",
          "name": "stdout",
          "text": [
            "element 1: 5\n",
            "element 2: 7.9\n",
            "element 3: hello\n"
          ]
        }
      ],
      "source": [
        "arr = (5, 7.9, \"hello\", True)\n",
        "e1=arr[0]\n",
        "e2=arr[1]\n",
        "e3=arr[2]\n",
        "print (\"element 1:\", e1)\n",
        "print (\"element 2:\", e2)\n",
        "print (\"element 3:\", e3)"
      ]
    }
  ]
}